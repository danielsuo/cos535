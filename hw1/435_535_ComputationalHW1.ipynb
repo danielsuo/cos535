{
 "cells": [
  {
   "cell_type": "markdown",
   "metadata": {},
   "source": [
    "# ELE 435-535 Computational HW 1"
   ]
  },
  {
   "cell_type": "markdown",
   "metadata": {},
   "source": [
    "### Due: 9/24/2018 11:59 PM"
   ]
  },
  {
   "cell_type": "markdown",
   "metadata": {},
   "source": [
    "### Importing required Python packages"
   ]
  },
  {
   "cell_type": "code",
   "execution_count": 1,
   "metadata": {},
   "outputs": [],
   "source": [
    "# Import additional packages if needed.\n",
    "import numpy as np\n",
    "import matplotlib.pyplot as plt\n",
    "\n",
    "%matplotlib inline"
   ]
  },
  {
   "cell_type": "markdown",
   "metadata": {},
   "source": [
    "### Part 1: Getting started with Numpy "
   ]
  },
  {
   "cell_type": "markdown",
   "metadata": {},
   "source": [
    "1) Create a 5 x 5 array (A) with random values sampled from Gaussian distribution with zero mean and unit variance. Then print A. Suggestion: numpy has a built-in command for generating random arrays."
   ]
  },
  {
   "cell_type": "code",
   "execution_count": 5,
   "metadata": {},
   "outputs": [
    {
     "name": "stdout",
     "output_type": "stream",
     "text": [
      "[[ 1.0962995  -1.16635206 -1.95787855  0.80142373 -0.66514612]\n",
      " [ 0.57335642  1.44546877  0.48090909 -1.47049494  1.19950587]\n",
      " [-1.52292185 -0.82099908 -0.35427914  1.35306041 -1.51084116]\n",
      " [ 0.94896773  0.31924362 -0.29705941  2.65454975 -2.35267673]\n",
      " [ 0.67286711 -1.17590121  0.70063041  1.75015252 -1.02967792]]\n"
     ]
    }
   ],
   "source": [
    "A = np.random.normal(size=(5,5))\n",
    "print(A)"
   ]
  },
  {
   "cell_type": "markdown",
   "metadata": {},
   "source": [
    "2) Set the element in the $2^{nd}$ row and $3^{rd}$ column of A to be 1 and print the result. Suggestion: check out how to index the elements of a numpy array."
   ]
  },
  {
   "cell_type": "code",
   "execution_count": 6,
   "metadata": {},
   "outputs": [
    {
     "name": "stdout",
     "output_type": "stream",
     "text": [
      "[[ 1.0962995  -1.16635206 -1.95787855  0.80142373 -0.66514612]\n",
      " [ 0.57335642  1.44546877  1.         -1.47049494  1.19950587]\n",
      " [-1.52292185 -0.82099908 -0.35427914  1.35306041 -1.51084116]\n",
      " [ 0.94896773  0.31924362 -0.29705941  2.65454975 -2.35267673]\n",
      " [ 0.67286711 -1.17590121  0.70063041  1.75015252 -1.02967792]]\n"
     ]
    }
   ],
   "source": [
    "A[1][2] = 1\n",
    "print(A)"
   ]
  },
  {
   "cell_type": "markdown",
   "metadata": {},
   "source": [
    "3) Create a 5 x 5 identity array (B) and print it. Suggestion: numpy has a built in command for generating identity matrices."
   ]
  },
  {
   "cell_type": "code",
   "execution_count": 11,
   "metadata": {},
   "outputs": [
    {
     "name": "stdout",
     "output_type": "stream",
     "text": [
      "[[1. 0. 0. 0. 0.]\n",
      " [0. 1. 0. 0. 0.]\n",
      " [0. 0. 1. 0. 0.]\n",
      " [0. 0. 0. 1. 0.]\n",
      " [0. 0. 0. 0. 1.]]\n"
     ]
    }
   ],
   "source": [
    "B = np.eye(5)\n",
    "print(B)"
   ]
  },
  {
   "cell_type": "markdown",
   "metadata": {},
   "source": [
    "4) Set the values below the diagonal of B to be 1,2,3,4. Then, print the result. Suggestion: you can use a for loop."
   ]
  },
  {
   "cell_type": "code",
   "execution_count": 12,
   "metadata": {},
   "outputs": [
    {
     "name": "stdout",
     "output_type": "stream",
     "text": [
      "[[1. 0. 0. 0. 0.]\n",
      " [1. 1. 0. 0. 0.]\n",
      " [0. 2. 1. 0. 0.]\n",
      " [0. 0. 3. 1. 0.]\n",
      " [0. 0. 0. 4. 1.]]\n"
     ]
    }
   ],
   "source": [
    "for i in range(4):\n",
    "    B[i + 1][i] = i + 1\n",
    "print(B)"
   ]
  },
  {
   "cell_type": "markdown",
   "metadata": {},
   "source": [
    "5) Multiply A and B (matrix multiplication, not point-wise multiplication) to create C (note that A and B are 2D arrays, not matrices). Suggestion: numpy hasd a built-in command for matrix multiplication."
   ]
  },
  {
   "cell_type": "code",
   "execution_count": 14,
   "metadata": {},
   "outputs": [
    {
     "name": "stdout",
     "output_type": "stream",
     "text": [
      "[[-0.07005256 -5.08210916  0.44639264 -1.85916076 -0.66514612]\n",
      " [ 2.01882519  3.44546877 -3.41148482  3.32752855  1.19950587]\n",
      " [-2.34392093 -1.52955737  3.70490208 -4.69030425 -1.51084116]\n",
      " [ 1.26821135 -0.2748752   7.66658983 -6.75615717 -2.35267673]\n",
      " [-0.5030341   0.22535961  5.95108797 -2.36855917 -1.02967792]]\n"
     ]
    }
   ],
   "source": [
    "C = np.matmul(A, B)\n",
    "print(C)"
   ]
  },
  {
   "cell_type": "markdown",
   "metadata": {},
   "source": [
    "6) Create a new array D according to the formula below:\n",
    "\\begin{equation}\n",
    "D = \\sum_{i=1}^5 A_i*B_i \\hspace{10mm} (A_i: i^{th} \\hspace{3mm} column \\hspace{3mm} of \\hspace{3mm} A, \\hspace{3mm} B_i: i^{th} \\hspace{3mm} row \\hspace{3mm} of \\hspace{3mm} B)   \\\\\n",
    "\\end{equation}"
   ]
  },
  {
   "cell_type": "code",
   "execution_count": 57,
   "metadata": {},
   "outputs": [
    {
     "name": "stdout",
     "output_type": "stream",
     "text": [
      "[[-0.07005256 -5.08210916  0.44639264 -1.85916076 -0.66514612]\n",
      " [ 2.01882519  3.44546877 -3.41148482  3.32752855  1.19950587]\n",
      " [-2.34392093 -1.52955737  3.70490208 -4.69030425 -1.51084116]\n",
      " [ 1.26821135 -0.2748752   7.66658983 -6.75615717 -2.35267673]\n",
      " [-0.5030341   0.22535961  5.95108797 -2.36855917 -1.02967792]]\n"
     ]
    }
   ],
   "source": [
    "D = np.zeros(shape=(5, 5))\n",
    "AT = np.transpose(A)\n",
    "\n",
    "for i in range(5):\n",
    "    Ai = np.reshape(np.transpose(AT[i]), (5,1))\n",
    "    Bi = np.reshape(B[i], (1,5))\n",
    "    D += np.matmul(Ai, Bi)\n",
    "\n",
    "print(D)"
   ]
  },
  {
   "cell_type": "markdown",
   "metadata": {},
   "source": [
    "7) Verify that C and D are equal. Suggestion: a==b checks equality."
   ]
  },
  {
   "cell_type": "code",
   "execution_count": 58,
   "metadata": {},
   "outputs": [
    {
     "name": "stdout",
     "output_type": "stream",
     "text": [
      "[[ True  True  True  True  True]\n",
      " [ True  True  True  True  True]\n",
      " [ True  True  True  True  True]\n",
      " [ True  True  True  True  True]\n",
      " [ True  True  True  True  True]]\n",
      "[[ 0.00000000e+00  0.00000000e+00 -1.11022302e-16  0.00000000e+00\n",
      "   0.00000000e+00]\n",
      " [ 0.00000000e+00  0.00000000e+00  0.00000000e+00  0.00000000e+00\n",
      "   0.00000000e+00]\n",
      " [ 0.00000000e+00  0.00000000e+00  0.00000000e+00  0.00000000e+00\n",
      "   0.00000000e+00]\n",
      " [ 0.00000000e+00  0.00000000e+00  0.00000000e+00  0.00000000e+00\n",
      "   0.00000000e+00]\n",
      " [ 0.00000000e+00  0.00000000e+00 -8.88178420e-16  0.00000000e+00\n",
      "   0.00000000e+00]]\n"
     ]
    }
   ],
   "source": [
    "# There were some floating point errors from the order of operations\n",
    "print(np.isclose(C, D))\n",
    "\n",
    "# To convince ourselves, we print out the delta between C and D\n",
    "print(C - D)"
   ]
  },
  {
   "cell_type": "markdown",
   "metadata": {},
   "source": [
    "### Part 2: Implementation of nearest class mean classifier"
   ]
  },
  {
   "cell_type": "markdown",
   "metadata": {},
   "source": [
    "In this part, you will implement nearest class mean classifier using the MNIST dataset for handwritten digits. These are 28 x 28  2D grayscale images of hand written digits. When you load the given file MNISTcwtrain1000.npy, you will get a 784 x 10000 numpy array, which you are to use as the training samples and another 784 x 1000 array (from MNISTcwtest100.npy) which is to be used as test samples. You can find more information on http://yann.lecun.com/exdb/mnist/.\n",
    "\n",
    "Each column in the training and test arrays are 784-pixel (784 = 28 * 28) column-wise vectorized images of handwritten digits (digits 0~9). For the training array, the first 1000 columns are column-wise vectorized images of the digit 0, the next 1000 columns are images of digit 1, and so on up to the last 1000 columns which are images of digit 9. Similarly, for the test array, the first 100 columns are vectorized images of digit 0, the next 100 columns correspond to digit 1, etc."
   ]
  },
  {
   "cell_type": "markdown",
   "metadata": {},
   "source": [
    "1) Load the MNISTcwtrain1000.npy (training examples) and MNISTcwtest100.npy (test examples). Cast the resulting arrays to 'uint8 (unsigned integers of 8-bits)' format."
   ]
  },
  {
   "cell_type": "code",
   "execution_count": 44,
   "metadata": {},
   "outputs": [],
   "source": [
    "train = np.load(\"MNISTcwtrain1000.npy\")\n",
    "test = np.load(\"MNISTcwtest100.npy\")\n",
    "\n",
    "train = train.astype(\"uint8\")\n",
    "test = test.astype(\"uint8\")"
   ]
  },
  {
   "cell_type": "markdown",
   "metadata": {},
   "source": [
    "2) Print the dimensions of training data and test data."
   ]
  },
  {
   "cell_type": "code",
   "execution_count": 45,
   "metadata": {},
   "outputs": [
    {
     "name": "stdout",
     "output_type": "stream",
     "text": [
      "(784, 10000)\n",
      "(784, 1000)\n"
     ]
    }
   ],
   "source": [
    "print(np.shape(train))\n",
    "print(np.shape(test))"
   ]
  },
  {
   "cell_type": "markdown",
   "metadata": {},
   "source": [
    "3) Compute the mean vector of each digit of training examples (mean of the first 1000 columns of training examples corresponds to digit 0, mean of the next 1000 columns corresponds to digit 1, etc.)"
   ]
  },
  {
   "cell_type": "code",
   "execution_count": 175,
   "metadata": {},
   "outputs": [
    {
     "name": "stdout",
     "output_type": "stream",
     "text": [
      "(784, 10)\n"
     ]
    }
   ],
   "source": [
    "means = np.mean(np.reshape(train, (784, 10, 1000)), axis = 2)\n",
    "print(np.shape(means))"
   ]
  },
  {
   "cell_type": "markdown",
   "metadata": {},
   "source": [
    "4) Using the function below, convert the mean-vector of each digit (computed from part (3)) into a 28 x 28, 2D-array and plot the corresponding two dimensional images (using 'imshow').  "
   ]
  },
  {
   "cell_type": "code",
   "execution_count": 176,
   "metadata": {},
   "outputs": [],
   "source": [
    "# Function that converts a 1D vectorized image into a (nr x nc) 2D array\n",
    "means_t = np.transpose(means)\n",
    "means_img = np.zeros((10, 28, 28))\n",
    "\n",
    "def unpackcw(x,nr,nc):\n",
    "    A = x.reshape(nc,nr)\n",
    "    return A.T\n",
    "\n",
    "for i in range(len(means_t)):\n",
    "    means_img[i] = unpackcw(means_t[i], 28, 28)"
   ]
  },
  {
   "cell_type": "code",
   "execution_count": 177,
   "metadata": {},
   "outputs": [
    {
     "data": {
      "image/png": "[encoded data removed]",
      "text/plain": [
       "<Figure size 1440x720 with 10 Axes>"
      ]
     },
     "metadata": {
      "needs_background": "light"
     },
     "output_type": "display_data"
    }
   ],
   "source": [
    "plt.figure(figsize=(20, 10))\n",
    "columns = 5\n",
    "for i, image in enumerate(means_img):\n",
    "    plt.subplot(3, 5, i + 1)\n",
    "    plt.imshow(image)"
   ]
  },
  {
   "cell_type": "markdown",
   "metadata": {},
   "source": [
    "5) Using vector-means from part (3), implement the nearest class mean classifier. What are the training and test accuracies?"
   ]
  },
  {
   "cell_type": "code",
   "execution_count": 182,
   "metadata": {},
   "outputs": [
    {
     "name": "stdout",
     "output_type": "stream",
     "text": [
      "0.8038\n",
      "0.767\n"
     ]
    }
   ],
   "source": [
    "train_t = np.transpose(train)\n",
    "test_t = np.transpose(test)\n",
    "\n",
    "def predict(data, centroids):\n",
    "    dist = np.sum(np.square(centroids - data), 1)\n",
    "    return np.argmin(dist)\n",
    "\n",
    "def accuracy(data, centroids):\n",
    "    correct = 0\n",
    "    examples_per_class = len(data) / 10\n",
    "    for i in range(len(data)):\n",
    "        if predict(data[i], centroids) == i // examples_per_class:\n",
    "            correct += 1\n",
    "    \n",
    "    return correct / len(data)\n",
    "\n",
    "print(accuracy(train_t, means_t))\n",
    "print(accuracy(test_t, means_t))"
   ]
  },
  {
   "cell_type": "code",
   "execution_count": null,
   "metadata": {},
   "outputs": [],
   "source": []
  }
 ],
 "metadata": {
  "anaconda-cloud": {},
  "kernelspec": {
   "display_name": "Python 2",
   "language": "python",
   "name": "python2"
  },
  "language_info": {
   "codemirror_mode": {
    "name": "ipython",
    "version": 3
   },
   "file_extension": ".py",
   "mimetype": "text/x-python",
   "name": "python",
   "nbconvert_exporter": "python",
   "pygments_lexer": "ipython3",
   "version": "3.6.6"
  }
 },
 "nbformat": 4,
 "nbformat_minor": 1
}
